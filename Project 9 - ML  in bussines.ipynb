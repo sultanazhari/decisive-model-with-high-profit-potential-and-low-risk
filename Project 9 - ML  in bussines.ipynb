{
 "cells": [
  {
   "cell_type": "markdown",
   "metadata": {},
   "source": [
    "# Deskripsi Proyek\n",
    "Kamu bekerja di perusahaan tambang OilyGiant. Nah, tugasmu adalah mencari tempat terbaik untuk mengembangkan 200 titik sumur minyak baru.\n",
    "\n",
    "Untuk menyelesaikan tugas ini, kamu harus melakukan langkah-langkah berikut:\n",
    "Baca file dengan parameter yang dikumpulkan dari sumur-sumur minyak di wilayah terpilih: kualitas minyak dan volume cadangannya;\n",
    "\n",
    "Buat sebuah model untuk memprediksi volume cadangan di sumur-sumur baru;\n",
    "\n",
    "Pilih sumur minyak yang memiliki nilai estimasi tertinggi;\n",
    "\n",
    "Pilih wilayah dengan total keuntungan tertinggi dari sumur minyak yang dipilih.\n",
    "\n",
    "Kamu punya data sampel minyak dari tiga wilayah. Parameter setiap sumur minyak di wilayah tersebut sudah diketahui. Buat sebuah model yang akan membantumu memilih wilayah dengan margin keuntungan tertinggi. "
   ]
  },
  {
   "cell_type": "markdown",
   "metadata": {},
   "source": [
    "## Import Library"
   ]
  },
  {
   "cell_type": "code",
   "execution_count": 52,
   "metadata": {},
   "outputs": [],
   "source": [
    "# Import Library yang dibutuhkan\n",
    "\n",
    "# Library untuk Data Processing\n",
    "import pandas as pd, numpy as np\n",
    "from sklearn.model_selection import train_test_split\n",
    "\n",
    "# Library untuk data Visualization\n",
    "import matplotlib.pyplot as plt\n",
    "import seaborn as sns\n",
    "\n",
    "# Library untuk Machine Learning\n",
    "from sklearn.linear_model import LinearRegression\n",
    "from sklearn.linear_model import Ridge\n",
    "\n",
    "# Library untuk metrics\n",
    "from sklearn.metrics import mean_squared_error"
   ]
  },
  {
   "cell_type": "markdown",
   "metadata": {},
   "source": [
    "## Load dataset"
   ]
  },
  {
   "cell_type": "code",
   "execution_count": 3,
   "metadata": {},
   "outputs": [],
   "source": [
    "# Memuat data\n",
    "data0 = pd.read_csv ('/datasets/geo_data_0.csv')\n",
    "data1 = pd.read_csv ('/datasets/geo_data_1.csv')\n",
    "data2 = pd.read_csv ('/datasets/geo_data_2.csv')"
   ]
  },
  {
   "cell_type": "code",
   "execution_count": 6,
   "metadata": {},
   "outputs": [
    {
     "name": "stdout",
     "output_type": "stream",
     "text": [
      "Geo data 0\n",
      "      id        f0        f1        f2     product\n",
      "0  txEyH  0.705745 -0.497823  1.221170  105.280062\n",
      "1  2acmU  1.334711 -0.340164  4.365080   73.037750\n",
      "2  409Wp  1.022732  0.151990  1.419926   85.265647\n",
      "3  iJLyR -0.032172  0.139033  2.978566  168.620776\n",
      "4  Xdl7t  1.988431  0.155413  4.751769  154.036647\n",
      "--------------------\n",
      "\n",
      "Geo data 1\n",
      "      id         f0         f1        f2     product\n",
      "0  kBEdx -15.001348  -8.276000 -0.005876    3.179103\n",
      "1  62mP7  14.272088  -3.475083  0.999183   26.953261\n",
      "2  vyE1P   6.263187  -5.948386  5.001160  134.766305\n",
      "3  KcrkZ -13.081196 -11.506057  4.999415  137.945408\n",
      "4  AHL4O  12.702195  -8.147433  5.004363  134.766305\n",
      "--------------------\n",
      "\n",
      "Geo data 2\n",
      "      id        f0        f1        f2     product\n",
      "0  fwXo0 -1.146987  0.963328 -0.828965   27.758673\n",
      "1  WJtFt  0.262778  0.269839 -2.530187   56.069697\n",
      "2  ovLUW  0.194587  0.289035 -5.586433   62.871910\n",
      "3  q6cA6  2.236060 -0.553760  0.930038  114.572842\n",
      "4  WPMUX -0.515993  1.716266  5.899011  149.600746\n",
      "--------------------\n",
      "\n"
     ]
    }
   ],
   "source": [
    "# Melakukan pengecekan isi data\n",
    "print('Geo data 0')\n",
    "print(data0.head(5))\n",
    "print('--------------------\\n')\n",
    "print('Geo data 1')\n",
    "print(data1.head(5))\n",
    "print('--------------------\\n')\n",
    "print('Geo data 2')\n",
    "print(data2.head(5))\n",
    "print('--------------------')"
   ]
  },
  {
   "cell_type": "markdown",
   "metadata": {},
   "source": [
    "<div class=\"alert-info\">\n",
    "    \n",
    "<b>Deskripsi data</b>\n",
    "\n",
    "id — ID unik sumur minyak\n",
    "\n",
    "f0, f1, f2 — tiga fitur titik wilayah (makna spesifiknya sebenarnya tidak penting, tetapi fitur itu sendiri sangat penting)\n",
    "\n",
    "product — volume cadangan di dalam sumur minyak (1 unit = 1.000 barel).\n",
    "\n",
    "</div>\n"
   ]
  },
  {
   "cell_type": "markdown",
   "metadata": {},
   "source": [
    "## Data Quality Checking"
   ]
  },
  {
   "cell_type": "code",
   "execution_count": 8,
   "metadata": {},
   "outputs": [
    {
     "name": "stdout",
     "output_type": "stream",
     "text": [
      "Geo data 0\n",
      "<class 'pandas.core.frame.DataFrame'>\n",
      "RangeIndex: 100000 entries, 0 to 99999\n",
      "Data columns (total 5 columns):\n",
      " #   Column   Non-Null Count   Dtype  \n",
      "---  ------   --------------   -----  \n",
      " 0   id       100000 non-null  object \n",
      " 1   f0       100000 non-null  float64\n",
      " 2   f1       100000 non-null  float64\n",
      " 3   f2       100000 non-null  float64\n",
      " 4   product  100000 non-null  float64\n",
      "dtypes: float64(4), object(1)\n",
      "memory usage: 3.8+ MB\n",
      "------------------------------------\n",
      "\n",
      "Geo data 1\n",
      "<class 'pandas.core.frame.DataFrame'>\n",
      "RangeIndex: 100000 entries, 0 to 99999\n",
      "Data columns (total 5 columns):\n",
      " #   Column   Non-Null Count   Dtype  \n",
      "---  ------   --------------   -----  \n",
      " 0   id       100000 non-null  object \n",
      " 1   f0       100000 non-null  float64\n",
      " 2   f1       100000 non-null  float64\n",
      " 3   f2       100000 non-null  float64\n",
      " 4   product  100000 non-null  float64\n",
      "dtypes: float64(4), object(1)\n",
      "memory usage: 3.8+ MB\n",
      "------------------------------------\n",
      "\n",
      "Geo data 2\n",
      "<class 'pandas.core.frame.DataFrame'>\n",
      "RangeIndex: 100000 entries, 0 to 99999\n",
      "Data columns (total 5 columns):\n",
      " #   Column   Non-Null Count   Dtype  \n",
      "---  ------   --------------   -----  \n",
      " 0   id       100000 non-null  object \n",
      " 1   f0       100000 non-null  float64\n",
      " 2   f1       100000 non-null  float64\n",
      " 3   f2       100000 non-null  float64\n",
      " 4   product  100000 non-null  float64\n",
      "dtypes: float64(4), object(1)\n",
      "memory usage: 3.8+ MB\n",
      "------------------------------------\n"
     ]
    }
   ],
   "source": [
    "# Melakukan pengecekan informasi data\n",
    "print('Geo data 0')\n",
    "data0.info()\n",
    "print('------------------------------------\\n')\n",
    "print('Geo data 1')\n",
    "data1.info()\n",
    "print('------------------------------------\\n')\n",
    "print('Geo data 2')\n",
    "data2.info()\n",
    "print('------------------------------------')"
   ]
  },
  {
   "cell_type": "markdown",
   "metadata": {},
   "source": [
    "<div class=\"alert-info\">\n",
    "<b>Note</b>\n",
    "\n",
    "Tidak terdapat data yang hilang pada semua data geo.\n",
    "    \n",
    "    \n",
    "\n",
    "</div>"
   ]
  },
  {
   "cell_type": "code",
   "execution_count": 10,
   "metadata": {},
   "outputs": [
    {
     "name": "stdout",
     "output_type": "stream",
     "text": [
      "Geo data 0 \n",
      " 0\n",
      "------------------------------------\n",
      "\n",
      "Geo data 1 \n",
      " 0\n",
      "------------------------------------\n",
      "\n",
      "Geo data 2 \n",
      " 0\n",
      "------------------------------------\n"
     ]
    }
   ],
   "source": [
    "# Cek duplikasi data\n",
    "print('Geo data 0 \\n', data0.duplicated().sum())\n",
    "print('------------------------------------\\n')\n",
    "print('Geo data 1 \\n', data1.duplicated().sum())\n",
    "print('------------------------------------\\n')\n",
    "print('Geo data 2 \\n', data2.duplicated().sum())\n",
    "print('------------------------------------')"
   ]
  },
  {
   "cell_type": "markdown",
   "metadata": {},
   "source": [
    "<div class=\"alert-info\">\n",
    "<b>Note</b>\n",
    "\n",
    "Tidak terdapat data duplikat pada semua data geo.\n",
    "\n",
    "    \n",
    "    \n",
    "\n",
    "</div>"
   ]
  },
  {
   "cell_type": "markdown",
   "metadata": {},
   "source": [
    "## Analisis data eksploratif (EDA) "
   ]
  },
  {
   "cell_type": "code",
   "execution_count": 16,
   "metadata": {},
   "outputs": [
    {
     "data": {
      "image/png": "[encoded data removed]",
      "text/plain": [
       "<Figure size 432x288 with 2 Axes>"
      ]
     },
     "metadata": {
      "needs_background": "light"
     },
     "output_type": "display_data"
    }
   ],
   "source": [
    "# Melakukan pengecekan Korelasi antara fiture dan target.\n",
    "\n",
    "corr0 = data0.corr()\n",
    "plt.title('Correlation di Geo data 0')\n",
    "sns.heatmap(corr0, annot=True)\n",
    "plt.show()"
   ]
  },
  {
   "cell_type": "markdown",
   "metadata": {},
   "source": [
    "<div class=\"alert-info\">\n",
    "<b>Note</b>\n",
    "\n",
    "- F0 dan F1, Memiliki korelasi yang lemah terhadap produk / Target\n",
    "- F2, Memiliki Korelasi sedang terhadap produk / Target\n",
    "    \n",
    "    \n",
    "\n",
    "</div>"
   ]
  },
  {
   "cell_type": "code",
   "execution_count": 17,
   "metadata": {},
   "outputs": [
    {
     "data": {
      "image/png": "[encoded data removed]",
      "text/plain": [
       "<Figure size 432x288 with 2 Axes>"
      ]
     },
     "metadata": {
      "needs_background": "light"
     },
     "output_type": "display_data"
    }
   ],
   "source": [
    "# Melakukan pengecekan Korelasi antara fiture dan target.\n",
    "\n",
    "corr1 = data1.corr()\n",
    "plt.title('Correlation di Geo data 1')\n",
    "sns.heatmap(corr1, annot=True)\n",
    "plt.show()"
   ]
  },
  {
   "cell_type": "markdown",
   "metadata": {},
   "source": [
    "<div class=\"alert-info\">\n",
    "<b>Note</b>\n",
    "\n",
    "- F0 dan F1, Memiliki korelasi yang lemah terhadap produk / Target\n",
    "- F2, Memiliki Korelasi yang sangat kuat terhadap produk / Target\n",
    "    \n",
    "    \n",
    "\n",
    "</div>"
   ]
  },
  {
   "cell_type": "code",
   "execution_count": 18,
   "metadata": {},
   "outputs": [
    {
     "data": {
      "image/png": "[encoded data removed]",
      "text/plain": [
       "<Figure size 432x288 with 2 Axes>"
      ]
     },
     "metadata": {
      "needs_background": "light"
     },
     "output_type": "display_data"
    }
   ],
   "source": [
    "# Melakukan pengecekan Korelasi antara fiture dan target.\n",
    "\n",
    "corr2 = data2.corr()\n",
    "plt.title('Correlation di Geo data 2')\n",
    "sns.heatmap(corr2, annot=True)\n",
    "plt.show()"
   ]
  },
  {
   "cell_type": "markdown",
   "metadata": {},
   "source": [
    "<div class=\"alert-info\">\n",
    "<b>Note</b>\n",
    "\n",
    "- F0 dan F1, Memiliki korelasi yang lemah terhadap produk / Target\n",
    "- F2, Memiliki Korelasi sedang terhadap produk / Target\n",
    "    \n",
    "    \n",
    "\n",
    "</div>"
   ]
  },
  {
   "cell_type": "markdown",
   "metadata": {},
   "source": [
    "## Model Creation"
   ]
  },
  {
   "cell_type": "code",
   "execution_count": 32,
   "metadata": {},
   "outputs": [],
   "source": [
    "# Membuat function Mean Absolute Percentage Error (MAPE)\n",
    "def mape(y_actual, y_predict):\n",
    "    metric = pd.Series(abs(y_actual - y_predict) / y_actual).replace(np.inf, 0).mean() * 100\n",
    "    return metric"
   ]
  },
  {
   "cell_type": "code",
   "execution_count": 106,
   "metadata": {},
   "outputs": [],
   "source": [
    "# Membuat function model, hasil RSME dan MAPE\n",
    "def create_model(dataframe, model, data_ke):\n",
    "    # Pisahkan X dan y\n",
    "    feature = dataframe[['f0', 'f1', 'f2']]\n",
    "    target = dataframe['product']\n",
    "\n",
    "    # Train Test Split\n",
    "    lr = LinearRegression()\n",
    "    X_train, X_test, y_train, y_test = train_test_split(feature, target, test_size=0.25, random_state=10)\n",
    "\n",
    "\n",
    "    # Prediksi Data\n",
    "    model.fit(X_train, y_train)\n",
    "    y_pred_train = model.predict(X_train)\n",
    "    y_pred_test  = model.predict(X_test)\n",
    "\n",
    "    # Evaluasi Metrics dari Model\n",
    "    rmse_train = np.sqrt(mean_squared_error(y_train, y_pred_train))\n",
    "    rmse_test = np.sqrt(mean_squared_error(y_test, y_pred_test))\n",
    "\n",
    "    # Print RMSE\n",
    "    print('Geo Data ke', data_ke, '----------------------')\n",
    "    print('RMSE Train   :', round(rmse_train, 2))\n",
    "    print('RMSE Test    :', round(rmse_test, 2))\n",
    "    # Print MAPE\n",
    "    print('MAPE Train   :', round(mape(y_train, y_pred_train), 2), '%')\n",
    "    print('MAPE Test    :', round(mape(y_test, y_pred_test), 2), '%')\n",
    "\n",
    "    # Rata2 Volume Minyak yang terprediksi\n",
    "    mean_volume = y_pred_test.mean()\n",
    "    print('Volume Minyak:', round(mean_volume, 2))\n",
    "\n",
    "    result = pd.DataFrame({'actual': y_test, 'predict': y_pred_test})\n",
    "\n",
    "    return result"
   ]
  },
  {
   "cell_type": "markdown",
   "metadata": {},
   "source": [
    "### LinearRegression\n"
   ]
  },
  {
   "cell_type": "code",
   "execution_count": 63,
   "metadata": {},
   "outputs": [],
   "source": [
    "# Membuat Model Linear Regression\n",
    "lr = LinearRegression()"
   ]
  },
  {
   "cell_type": "code",
   "execution_count": 107,
   "metadata": {
    "scrolled": true
   },
   "outputs": [
    {
     "name": "stdout",
     "output_type": "stream",
     "text": [
      "Geo Data ke 0 ----------------------\n",
      "RMSE Train   : 37.64\n",
      "RMSE Test    : 37.85\n",
      "MAPE Train   : 147.33 %\n",
      "MAPE Test    : 245.61 %\n",
      "Volume Minyak: 92.41\n",
      "Geo Data ke 1 ----------------------\n",
      "RMSE Train   : 0.89\n",
      "RMSE Test    : 0.89\n",
      "MAPE Train   : 2.86 %\n",
      "MAPE Test    : 2.82 %\n",
      "Volume Minyak: 68.83\n",
      "Geo Data ke 2 ----------------------\n",
      "RMSE Train   : 40.06\n",
      "RMSE Test    : 40.05\n",
      "MAPE Train   : 200.68 %\n",
      "MAPE Test    : 237.09 %\n",
      "Volume Minyak: 94.96\n"
     ]
    }
   ],
   "source": [
    "# Predict data ke 0\n",
    "result0 = create_model(dataframe=data0, model=lr, data_ke=0)\n",
    "\n",
    "# Predict data ke 1\n",
    "result1 = create_model(dataframe=data1, model=lr, data_ke=1)\n",
    "\n",
    "# Predict data ke 2\n",
    "result2 = create_model(dataframe=data2, model=lr, data_ke=2)"
   ]
  },
  {
   "cell_type": "markdown",
   "metadata": {},
   "source": [
    "<div class=\"alert-info\">\n",
    "<b>Insight</b>\n",
    "\n",
    "- rata-rata Volume minyak terbanyak terdapat pada Geo Data 2, Namun memiliki RSME yang paling besar.\n",
    "- RMSE yang paling kecil terdapat pada Geo data 1, namun memiliki rata-rata volume minyak terkecil.\n",
    "    \n",
    "    \n",
    "\n",
    "</div>"
   ]
  },
  {
   "cell_type": "markdown",
   "metadata": {},
   "source": [
    "### Ridge"
   ]
  },
  {
   "cell_type": "code",
   "execution_count": 60,
   "metadata": {},
   "outputs": [],
   "source": [
    "# Membuat Model Ridge\n",
    "ridge = Ridge()"
   ]
  },
  {
   "cell_type": "code",
   "execution_count": 61,
   "metadata": {},
   "outputs": [
    {
     "name": "stdout",
     "output_type": "stream",
     "text": [
      "Data ke 0 ----------------------\n",
      "RMSE Train   : 37.64\n",
      "RMSE Test    : 37.85\n",
      "MAPE Train   : 147.33 %\n",
      "MAPE Test    : 245.61 %\n",
      "Volume Minyak: 92.41\n",
      "Data ke 1 ----------------------\n",
      "RMSE Train   : 0.89\n",
      "RMSE Test    : 0.89\n",
      "MAPE Train   : 2.86 %\n",
      "MAPE Test    : 2.82 %\n",
      "Volume Minyak: 68.83\n",
      "Data ke 2 ----------------------\n",
      "RMSE Train   : 40.06\n",
      "RMSE Test    : 40.05\n",
      "MAPE Train   : 200.68 %\n",
      "MAPE Test    : 237.09 %\n",
      "Volume Minyak: 94.96\n"
     ]
    }
   ],
   "source": [
    "# Predict data ke 0\n",
    "result0_ridge = create_model(dataframe=data0, model=ridge, data_ke=0)\n",
    "\n",
    "# Predict data ke 1\n",
    "result1_ridge = create_model(dataframe=data1, model=ridge, data_ke=1)\n",
    "\n",
    "# Predict data ke 2\n",
    "result2_ridge = create_model(dataframe=data2, model=ridge, data_ke=2)"
   ]
  },
  {
   "cell_type": "markdown",
   "metadata": {},
   "source": [
    "<div class=\"alert-info\">\n",
    "<b>Insight</b>\n",
    "\n",
    "Hasilnya sama persis dengan model Linier Regression    \n",
    "- rata-rata Volume minyak terbanyak terdapat pada Geo Data 2, Namun memiliki RSME yang paling besar.\n",
    "- RMSE yang paling kecil terdapat pada Geo data 1, namun memiliki rata-rata volume minyak terkecil.\n",
    "    \n",
    "    \n",
    "\n",
    "</div>"
   ]
  },
  {
   "cell_type": "markdown",
   "metadata": {},
   "source": [
    "## Model Valuation"
   ]
  },
  {
   "cell_type": "code",
   "execution_count": 65,
   "metadata": {},
   "outputs": [],
   "source": [
    "# Benchmark\n",
    "anggaran    = 100000000\n",
    "pendapatan  = 4500\n",
    "sumur       = 200"
   ]
  },
  {
   "cell_type": "markdown",
   "metadata": {},
   "source": [
    "### Perhitungan Keuntungan / Laba"
   ]
  },
  {
   "cell_type": "code",
   "execution_count": 67,
   "metadata": {
    "scrolled": true
   },
   "outputs": [
    {
     "name": "stdout",
     "output_type": "stream",
     "text": [
      "Minimum Pendapatan per Sumur       : $ 500000.0\n",
      "Minimum Volume Minyak yg dihasilkan: 111.11  ribu barrels\n"
     ]
    }
   ],
   "source": [
    "cost_sumur  = anggaran / sumur\n",
    "min_barrel  = cost_sumur / pendapatan\n",
    "print('Minimum Pendapatan per Sumur       : $', round(cost_sumur, 2))\n",
    "print('Minimum Volume Minyak yg dihasilkan:', round(min_barrel, 2), ' ribu barrels')"
   ]
  },
  {
   "cell_type": "code",
   "execution_count": 116,
   "metadata": {},
   "outputs": [],
   "source": [
    "def revenue(dataframe):\n",
    "    pred_sorted = dataframe.sort_values(by='predict', ascending=False).head(200)\n",
    "    selected = pred_sorted['actual'].sum()\n",
    "    revenue = selected * 4500 - 100000000\n",
    "    return revenue"
   ]
  },
  {
   "cell_type": "code",
   "execution_count": 117,
   "metadata": {},
   "outputs": [],
   "source": [
    "def bootstrap_revenue(dataframe, bootstrap=1000):\n",
    "    state = np.random.RandomState(12345)\n",
    "    values = []\n",
    "    \n",
    "    for i in range(bootstrap):\n",
    "        target_sample = dataframe.sample(n=500, replace=True, random_state=state)\n",
    "        target_sample_revenue = revenue(target_sample)\n",
    "        values.append(target_sample_revenue)\n",
    "    \n",
    "    return pd.Series(values)"
   ]
  },
  {
   "cell_type": "code",
   "execution_count": 124,
   "metadata": {},
   "outputs": [],
   "source": [
    "def profit(data, percobaan=1000):\n",
    "    boot = bootstrap_revenue(dataframe=data, bootstrap=percobaan)\n",
    "    confidence_inteval = 0.95\n",
    "    alpha = 1 - confidence_inteval\n",
    "    min = int(boot.quantile(alpha/2))\n",
    "    max = int(boot.quantile(1-alpha/2))\n",
    "    avg = int(boot.mean())\n",
    "    risk = round((boot < 0).mean() * 100, 2)\n",
    "    \n",
    "    print(f'Range Confidence : $({min}) - $({max})')\n",
    "    print(f'Rata-rata Profit : ${avg}')\n",
    "    print(f'Risiko Kerugian  : {risk}%')"
   ]
  },
  {
   "cell_type": "code",
   "execution_count": 125,
   "metadata": {},
   "outputs": [
    {
     "name": "stdout",
     "output_type": "stream",
     "text": [
      "Result Geo data 0\n",
      "Range Confidence : $(-1302336) - $(8935740)\n",
      "Rata-rata Profit : $3773683\n",
      "Risiko Kerugian  : 8.1%\n",
      "------------------- \n",
      "\n",
      "Result Geo data 1\n",
      "Range Confidence : $(907582) - $(8829726)\n",
      "Rata-rata Profit : $4732811\n",
      "Risiko Kerugian  : 1.5%\n",
      "------------------- \n",
      "\n",
      "Result Geo data 2\n",
      "Range Confidence : $(-1734909) - $(9166356)\n",
      "Rata-rata Profit : $3603957\n",
      "Risiko Kerugian  : 9.0%\n",
      "-------------------\n"
     ]
    }
   ],
   "source": [
    "print('Result Geo data 0')\n",
    "profit(data=result0_lr)\n",
    "print('------------------- \\n')\n",
    "\n",
    "print('Result Geo data 1')\n",
    "profit(data=result1_lr)\n",
    "print('------------------- \\n')\n",
    "\n",
    "\n",
    "print('Result Geo data 2')\n",
    "profit(data=result2_lr)\n",
    "print('-------------------')"
   ]
  },
  {
   "cell_type": "markdown",
   "metadata": {},
   "source": [
    "<div class=\"alert-info\">\n",
    "<b>Insight</b>\n",
    "\n",
    "Hasilnya sama persis dengan model Linier Regression    \n",
    "- rata-rata Volume minyak terbanyak terdapat pada Geo Data 2, Namun memiliki RSME yang paling besar.\n",
    "- RMSE yang paling kecil terdapat pada Geo data 1, namun memiliki rata-rata volume minyak terkecil.\n",
    "    \n",
    "    \n",
    "\n",
    "</div>"
   ]
  }
 ],
 "metadata": {
  "kernelspec": {
   "display_name": "Python 3 (ipykernel)",
   "language": "python",
   "name": "python3"
  },
  "language_info": {
   "codemirror_mode": {
    "name": "ipython",
    "version": 3
   },
   "file_extension": ".py",
   "mimetype": "text/x-python",
   "name": "python",
   "nbconvert_exporter": "python",
   "pygments_lexer": "ipython3",
   "version": "3.9.19"
  },
  "toc": {
   "base_numbering": 1,
   "nav_menu": {},
   "number_sections": true,
   "sideBar": true,
   "skip_h1_title": true,
   "title_cell": "Table of Contents",
   "title_sidebar": "Contents",
   "toc_cell": false,
   "toc_position": {},
   "toc_section_display": true,
   "toc_window_display": false
  }
 },
 "nbformat": 4,
 "nbformat_minor": 2
}
